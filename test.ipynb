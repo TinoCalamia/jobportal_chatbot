{
 "cells": [
  {
   "cell_type": "code",
   "execution_count": null,
   "metadata": {},
   "outputs": [],
   "source": [
    "!pip install -r requirements.txt"
   ]
  },
  {
   "cell_type": "code",
   "execution_count": null,
   "metadata": {},
   "outputs": [],
   "source": [
    "import sys\n",
    "print(sys.executable)"
   ]
  },
  {
   "cell_type": "code",
   "execution_count": 1,
   "metadata": {},
   "outputs": [
    {
     "name": "stderr",
     "output_type": "stream",
     "text": [
      "/Users/agostinocalamia/repositories/jobportal_chatbot/src/vectorstore.py:7: LangChainDeprecationWarning: The class `Chroma` was deprecated in LangChain 0.2.9 and will be removed in 0.4. An updated version of the class exists in the langchain-chroma package and should be used instead. To use it run `pip install -U langchain-chroma` and import as `from langchain_chroma import Chroma`.\n",
      "  def create_vectorstore_from_documents(documents, vectorstore=Chroma(), embedding=OpenAIEmbeddings()):\n",
      "2024-09-15 19:56:41.786 INFO    chromadb.telemetry.product.posthog: Anonymized telemetry enabled. See                     https://docs.trychroma.com/telemetry for more information.\n"
     ]
    }
   ],
   "source": [
    "# %%\n",
    "import json\n",
    "import os\n",
    "import shutil\n",
    "import src.constants as con\n",
    "\n",
    "\n",
    "# %%\n",
    "with open(os.getcwd()+ con.API_KEYS_PATH, \"r\") as f:\n",
    "    credentials = json.load(f)\n",
    "\n",
    "\n",
    "os.environ['LANGCHAIN_TRACING_V2'] = credentials[\"LANGCHAIN_TRACING_V2\"]\n",
    "os.environ['LANGCHAIN_ENDPOINT'] = credentials[\"LANGCHAIN_ENDPOINT\"]\n",
    "os.environ['LANGCHAIN_API_KEY'] = credentials[\"LANGCHAIN_API_KEY\"]\n",
    "os.environ['OPENAI_API_KEY'] = credentials[\"OPENAI_API_KEY\"]\n",
    "os.environ['GOOGLE_APPLICATION_CREDENTIALS'] = credentials[\"GOOGLE_APPLICATION_CREDENTIALS\"]\n",
    "\n",
    "\n",
    "from langchain_core.output_parsers import StrOutputParser\n",
    "from langchain_core.runnables import RunnablePassthrough\n",
    "from langchain_core.prompts import ChatPromptTemplate\n",
    "from langchain_openai import ChatOpenAI\n",
    "from langchain.text_splitter import RecursiveCharacterTextSplitter\n",
    "import streamlit as st \n",
    "\n",
    "\n",
    "from src.loader import load_google_docs\n",
    "import src.prompts as pr\n",
    "from src.utils import token_generator, format_docs\n",
    "from src.vectorstore import create_vectorstore_from_documents, split_documents, add_documents_to_vectorstore\n"
   ]
  },
  {
   "cell_type": "code",
   "execution_count": null,
   "metadata": {},
   "outputs": [],
   "source": [
    "os.getcwd()"
   ]
  },
  {
   "cell_type": "code",
   "execution_count": 3,
   "metadata": {},
   "outputs": [
    {
     "name": "stdout",
     "output_type": "stream",
     "text": [
      "Please visit this URL to authorize this application: https://accounts.google.com/o/oauth2/auth?response_type=code&client_id=314599650974-clcign9rquanpbh5sl5fqf2nrf74gj41.apps.googleusercontent.com&redirect_uri=http%3A%2F%2Flocalhost%3A54750%2F&scope=https%3A%2F%2Fwww.googleapis.com%2Fauth%2Fdrive&state=5WVA7tPeMdX5bHaR1LCQKFFKkAInDM&access_type=offline\n"
     ]
    },
    {
     "name": "stderr",
     "output_type": "stream",
     "text": [
      "2024-09-15 19:58:30.027 INFO    google_auth_oauthlib.flow: \"GET /?state=5WVA7tPeMdX5bHaR1LCQKFFKkAInDM&code=4/0AQlEd8y-6gORh8g3CU9IIQyNNiJ_XvbblpTbHJG12pXmBhcNYAIOSo4bZRMsa0XXJBXNFQ&scope=https://www.googleapis.com/auth/drive HTTP/1.1\" 200 65\n"
     ]
    }
   ],
   "source": [
    "\n",
    "# %%\n",
    "if not os.path.exists('.credentials/token.json'):\n",
    "    token_generator()\n",
    "\n",
    "    shutil.move(os.getcwd() + '/token.json', os.path.join(os.getcwd() + '/.credentials/', os.path.basename('token.json')))"
   ]
  },
  {
   "cell_type": "code",
   "execution_count": 5,
   "metadata": {},
   "outputs": [
    {
     "name": "stdout",
     "output_type": "stream",
     "text": [
      "load interview coneent\n"
     ]
    },
    {
     "name": "stderr",
     "output_type": "stream",
     "text": [
      "2024-09-15 19:58:55.621 INFO    httpx: HTTP Request: POST https://api.openai.com/v1/embeddings \"HTTP/1.1 200 OK\"\n"
     ]
    }
   ],
   "source": [
    "\n",
    "\n",
    "# Define the document loader\n",
    "text_splitter = RecursiveCharacterTextSplitter(chunk_size=con.SPLITTER_CHUNK_SIZE, chunk_overlap=con.SPLITTER_CHUNK_OVERLAP)\n",
    "# Define the LLM\n",
    "llm = ChatOpenAI(model_name=con.MODEL_NAME, temperature=con.MODEL_TEMPERATURE)\n",
    "\n",
    "# %%\n",
    "#### ADDING INTERVIEW CONTEXT ####\n",
    "print('load interview coneent')\n",
    "\n",
    "job_docs = load_google_docs(folder_id = con.JOB_FOLDER_ID, file_types=[\"document\", \"pdf\"])\n",
    "job_splits = split_documents(job_docs, text_splitter=text_splitter)\n",
    "vector_db = create_vectorstore_from_documents(job_splits)"
   ]
  },
  {
   "cell_type": "code",
   "execution_count": null,
   "metadata": {},
   "outputs": [],
   "source": [
    "\n",
    "\n",
    "\n",
    "# %%\n",
    "\n",
    "retriever = vector_db.as_retriever(search_type=\"similarity\", search_kwargs={\"k\": 5})\n",
    "\n",
    "if con.PROMPT_TEMPLATE == \"basic\":\n",
    "    prompt = ChatPromptTemplate.from_template(pr.create_basic_prompt())\n",
    "else:\n",
    "    prompt = hub.pull(\"rlm/rag-prompt\")\n",
    "\n",
    "# Chain\n",
    "rag_chain = (\n",
    "     {\"context\": retriever | format_docs, \"question\": RunnablePassthrough()}\n",
    "    | prompt\n",
    "    | llm\n",
    "    | StrOutputParser()\n",
    ")\n"
   ]
  }
 ],
 "metadata": {
  "kernelspec": {
   "display_name": "Python 3",
   "language": "python",
   "name": "python3"
  },
  "language_info": {
   "codemirror_mode": {
    "name": "ipython",
    "version": 3
   },
   "file_extension": ".py",
   "mimetype": "text/x-python",
   "name": "python",
   "nbconvert_exporter": "python",
   "pygments_lexer": "ipython3",
   "version": "3.12.6"
  }
 },
 "nbformat": 4,
 "nbformat_minor": 2
}
